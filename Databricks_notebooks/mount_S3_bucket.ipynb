{
 "cells": [
  {
   "cell_type": "markdown",
   "metadata": {
    "application/vnd.databricks.v1+cell": {
     "cellMetadata": {},
     "inputWidgets": {},
     "nuid": "e87ae673-7880-4fd2-8baa-bb472778341e",
     "showTitle": false,
     "title": ""
    }
   },
   "source": [
    "### Imports"
   ]
  },
  {
   "cell_type": "code",
   "execution_count": 0,
   "metadata": {
    "application/vnd.databricks.v1+cell": {
     "cellMetadata": {},
     "inputWidgets": {},
     "nuid": "faf48789-c91a-4e2a-92d1-dfeb696bc900",
     "showTitle": false,
     "title": ""
    }
   },
   "outputs": [],
   "source": [
    "\n",
    "# pyspark functions\n",
    "from pyspark.sql.functions import *\n",
    "# URL processing\n",
    "import urllib\n",
    "\n"
   ]
  },
  {
   "cell_type": "markdown",
   "metadata": {
    "application/vnd.databricks.v1+cell": {
     "cellMetadata": {},
     "inputWidgets": {},
     "nuid": "c9981413-2753-4bbb-81dc-d9034291f348",
     "showTitle": false,
     "title": ""
    }
   },
   "source": []
  },
  {
   "cell_type": "markdown",
   "metadata": {
    "application/vnd.databricks.v1+cell": {
     "cellMetadata": {},
     "inputWidgets": {},
     "nuid": "f4686264-186a-4aa8-b5d6-b68d72ed64a8",
     "showTitle": false,
     "title": ""
    }
   },
   "source": [
    "%md\n",
    "## Analysis of S3 Bucket Mounting\n",
    "\n",
    "In this section, we mount an S3 bucket onto Databricks using the provided function `mount_s3_bucket()`. This function reads AWS keys from a Delta table and uses them to mount the S3 bucket. Below is the implementation of the function:\n"
   ]
  },
  {
   "cell_type": "code",
   "execution_count": 0,
   "metadata": {
    "application/vnd.databricks.v1+cell": {
     "cellMetadata": {},
     "inputWidgets": {},
     "nuid": "b0b59ead-6d05-4574-a66f-1efc60efc2c9",
     "showTitle": false,
     "title": ""
    }
   },
   "outputs": [],
   "source": [
    "\n",
    "\n",
    "def mount_s3_bucket(delta_table_path):\n",
    "    \"\"\"\n",
    "    Mounts an S3 bucket onto Databricks.\n",
    "\n",
    "    Parameters:\n",
    "    delta_table_path (str): The path to the Delta table containing AWS keys.\n",
    "\n",
    "    Returns:\n",
    "    None\n",
    "    \"\"\"\n",
    "    # Load AWS keys from Delta table\n",
    "    aws_keys_df = spark.read.format(\"delta\").load(delta_table_path)\n",
    "\n",
    "    # Extract AWS access key and secret key\n",
    "    access_key = aws_keys_df.select('Access key ID').collect()[0]['Access key ID']\n",
    "    secret_key = aws_keys_df.select('Secret access key').collect()[0]['Secret access key']\n",
    "\n",
    "    # Encode the secret key\n",
    "    encoded_secret_key = urllib.parse.quote(string=secret_key, safe=\"\")\n",
    "\n",
    "    # AWS S3 bucket name\n",
    "    aws_s3_bucket = \"s3_bucket\"\n",
    "    # Mount name for the bucket\n",
    "    mount_name = \"<desired_mount_path>\"\n",
    "    # Source URL\n",
    "    source_url = \"s3n://{0}:{1}@{2}\".format(access_key, encoded_secret_key, aws_s3_bucket)\n",
    "    # Mount the drive\n",
    "    dbutils.fs.mount(source_url, mount_name)\n",
    "\n",
    "# Call the function with the Delta table path\n",
    "delta_table_path = \"dbfs:/user/hive/warehouse/authentication_credentials\"\n",
    "mount_s3_bucket(delta_table_path)\n"
   ]
  }
 ],
 "metadata": {
  "application/vnd.databricks.v1+notebook": {
   "dashboards": [],
   "language": "python",
   "notebookMetadata": {
    "pythonIndentUnit": 4
   },
   "notebookName": "mount_S3_bucket",
   "widgets": {}
  }
 },
 "nbformat": 4,
 "nbformat_minor": 0
}
